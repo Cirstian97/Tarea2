{
 "cells": [
  {
   "cell_type": "code",
   "execution_count": 40,
   "id": "d04496f2",
   "metadata": {},
   "outputs": [],
   "source": [
    "import pandas as pd\n",
    "import numpy as np\n",
    "import matplotlib.pyplot as plt"
   ]
  },
  {
   "cell_type": "code",
   "execution_count": 41,
   "id": "f66493a0",
   "metadata": {},
   "outputs": [],
   "source": [
    "train = pd.read_csv('./framingham.csv')"
   ]
  },
  {
   "cell_type": "code",
   "execution_count": 42,
   "id": "6d5a4933",
   "metadata": {},
   "outputs": [
    {
     "data": {
      "text/html": [
       "<div>\n",
       "<style scoped>\n",
       "    .dataframe tbody tr th:only-of-type {\n",
       "        vertical-align: middle;\n",
       "    }\n",
       "\n",
       "    .dataframe tbody tr th {\n",
       "        vertical-align: top;\n",
       "    }\n",
       "\n",
       "    .dataframe thead th {\n",
       "        text-align: right;\n",
       "    }\n",
       "</style>\n",
       "<table border=\"1\" class=\"dataframe\">\n",
       "  <thead>\n",
       "    <tr style=\"text-align: right;\">\n",
       "      <th></th>\n",
       "      <th>male</th>\n",
       "      <th>age</th>\n",
       "      <th>education</th>\n",
       "      <th>currentSmoker</th>\n",
       "      <th>cigsPerDay</th>\n",
       "      <th>BPMeds</th>\n",
       "      <th>prevalentStroke</th>\n",
       "      <th>prevalentHyp</th>\n",
       "      <th>diabetes</th>\n",
       "      <th>totChol</th>\n",
       "      <th>sysBP</th>\n",
       "      <th>diaBP</th>\n",
       "      <th>BMI</th>\n",
       "      <th>heartRate</th>\n",
       "      <th>glucose</th>\n",
       "      <th>TenYearCHD</th>\n",
       "    </tr>\n",
       "  </thead>\n",
       "  <tbody>\n",
       "    <tr>\n",
       "      <th>0</th>\n",
       "      <td>1</td>\n",
       "      <td>39</td>\n",
       "      <td>4.0</td>\n",
       "      <td>0</td>\n",
       "      <td>0.0</td>\n",
       "      <td>0.0</td>\n",
       "      <td>0</td>\n",
       "      <td>0</td>\n",
       "      <td>0</td>\n",
       "      <td>195.0</td>\n",
       "      <td>106.0</td>\n",
       "      <td>70.0</td>\n",
       "      <td>26.97</td>\n",
       "      <td>80.0</td>\n",
       "      <td>77.0</td>\n",
       "      <td>0</td>\n",
       "    </tr>\n",
       "    <tr>\n",
       "      <th>1</th>\n",
       "      <td>0</td>\n",
       "      <td>46</td>\n",
       "      <td>2.0</td>\n",
       "      <td>0</td>\n",
       "      <td>0.0</td>\n",
       "      <td>0.0</td>\n",
       "      <td>0</td>\n",
       "      <td>0</td>\n",
       "      <td>0</td>\n",
       "      <td>250.0</td>\n",
       "      <td>121.0</td>\n",
       "      <td>81.0</td>\n",
       "      <td>28.73</td>\n",
       "      <td>95.0</td>\n",
       "      <td>76.0</td>\n",
       "      <td>0</td>\n",
       "    </tr>\n",
       "    <tr>\n",
       "      <th>2</th>\n",
       "      <td>1</td>\n",
       "      <td>48</td>\n",
       "      <td>1.0</td>\n",
       "      <td>1</td>\n",
       "      <td>20.0</td>\n",
       "      <td>0.0</td>\n",
       "      <td>0</td>\n",
       "      <td>0</td>\n",
       "      <td>0</td>\n",
       "      <td>245.0</td>\n",
       "      <td>127.5</td>\n",
       "      <td>80.0</td>\n",
       "      <td>25.34</td>\n",
       "      <td>75.0</td>\n",
       "      <td>70.0</td>\n",
       "      <td>0</td>\n",
       "    </tr>\n",
       "  </tbody>\n",
       "</table>\n",
       "</div>"
      ],
      "text/plain": [
       "   male  age  education  currentSmoker  cigsPerDay  BPMeds  prevalentStroke  \\\n",
       "0     1   39        4.0              0         0.0     0.0                0   \n",
       "1     0   46        2.0              0         0.0     0.0                0   \n",
       "2     1   48        1.0              1        20.0     0.0                0   \n",
       "\n",
       "   prevalentHyp  diabetes  totChol  sysBP  diaBP    BMI  heartRate  glucose  \\\n",
       "0             0         0    195.0  106.0   70.0  26.97       80.0     77.0   \n",
       "1             0         0    250.0  121.0   81.0  28.73       95.0     76.0   \n",
       "2             0         0    245.0  127.5   80.0  25.34       75.0     70.0   \n",
       "\n",
       "   TenYearCHD  \n",
       "0           0  \n",
       "1           0  \n",
       "2           0  "
      ]
     },
     "execution_count": 42,
     "metadata": {},
     "output_type": "execute_result"
    }
   ],
   "source": [
    "train.head(3)"
   ]
  },
  {
   "cell_type": "code",
   "execution_count": 43,
   "id": "4dceb3d4",
   "metadata": {},
   "outputs": [
    {
     "data": {
      "text/html": [
       "<div>\n",
       "<style scoped>\n",
       "    .dataframe tbody tr th:only-of-type {\n",
       "        vertical-align: middle;\n",
       "    }\n",
       "\n",
       "    .dataframe tbody tr th {\n",
       "        vertical-align: top;\n",
       "    }\n",
       "\n",
       "    .dataframe thead th {\n",
       "        text-align: right;\n",
       "    }\n",
       "</style>\n",
       "<table border=\"1\" class=\"dataframe\">\n",
       "  <thead>\n",
       "    <tr style=\"text-align: right;\">\n",
       "      <th></th>\n",
       "      <th>BMI</th>\n",
       "      <th>currentSmoker</th>\n",
       "    </tr>\n",
       "  </thead>\n",
       "  <tbody>\n",
       "    <tr>\n",
       "      <th>0</th>\n",
       "      <td>26.97</td>\n",
       "      <td>0</td>\n",
       "    </tr>\n",
       "    <tr>\n",
       "      <th>1</th>\n",
       "      <td>28.73</td>\n",
       "      <td>0</td>\n",
       "    </tr>\n",
       "    <tr>\n",
       "      <th>2</th>\n",
       "      <td>25.34</td>\n",
       "      <td>1</td>\n",
       "    </tr>\n",
       "    <tr>\n",
       "      <th>3</th>\n",
       "      <td>28.58</td>\n",
       "      <td>1</td>\n",
       "    </tr>\n",
       "    <tr>\n",
       "      <th>4</th>\n",
       "      <td>23.10</td>\n",
       "      <td>1</td>\n",
       "    </tr>\n",
       "  </tbody>\n",
       "</table>\n",
       "</div>"
      ],
      "text/plain": [
       "     BMI  currentSmoker\n",
       "0  26.97              0\n",
       "1  28.73              0\n",
       "2  25.34              1\n",
       "3  28.58              1\n",
       "4  23.10              1"
      ]
     },
     "execution_count": 43,
     "metadata": {},
     "output_type": "execute_result"
    }
   ],
   "source": [
    "train[['BMI','currentSmoker']].head()"
   ]
  },
  {
   "cell_type": "code",
   "execution_count": 44,
   "id": "958248cc",
   "metadata": {},
   "outputs": [
    {
     "data": {
      "text/plain": [
       "<Axes: xlabel='BMI', ylabel='currentSmoker'>"
      ]
     },
     "execution_count": 44,
     "metadata": {},
     "output_type": "execute_result"
    },
    {
     "data": {
      "image/png": "[encoded data removed]",
      "text/plain": [
       "<Figure size 640x480 with 1 Axes>"
      ]
     },
     "metadata": {},
     "output_type": "display_data"
    }
   ],
   "source": [
    "train[['BMI','currentSmoker']].plot.scatter(x='BMI',y='currentSmoker')"
   ]
  },
  {
   "cell_type": "code",
   "execution_count": 45,
   "id": "c2f26fd5",
   "metadata": {},
   "outputs": [],
   "source": [
    "w = 0.09\n",
    "b = -3.6"
   ]
  },
  {
   "cell_type": "code",
   "execution_count": 46,
   "id": "9f0502ad",
   "metadata": {},
   "outputs": [],
   "source": [
    "x = np.linspace(0,train['BMI'].max(),100)\n",
    "y = 1/(1+np.exp(-(w*x+b)))"
   ]
  },
  {
   "cell_type": "code",
   "execution_count": 47,
   "id": "ca41748c",
   "metadata": {},
   "outputs": [
    {
     "data": {
      "image/png": "[encoded data removed]",
      "text/plain": [
       "<Figure size 640x480 with 1 Axes>"
      ]
     },
     "metadata": {},
     "output_type": "display_data"
    }
   ],
   "source": [
    "train.plot.scatter(x='BMI',y='currentSmoker')\n",
    "plt.plot(x, y, '-r')\n",
    "plt.ylim(0,train['currentSmoker'].max()*1.1)\n",
    "# plt.grid()\n",
    "plt.show()"
   ]
  },
  {
   "cell_type": "code",
   "execution_count": 48,
   "id": "231b2230",
   "metadata": {},
   "outputs": [],
   "source": [
    "train['sigmoid'] = 1/(1+np.exp(-(train['BMI']*w+b)))"
   ]
  },
  {
   "cell_type": "code",
   "execution_count": 49,
   "id": "07fc2d3d",
   "metadata": {},
   "outputs": [
    {
     "data": {
      "text/plain": [
       "0.9207993112081031"
      ]
     },
     "execution_count": 49,
     "metadata": {},
     "output_type": "execute_result"
    }
   ],
   "source": [
    "train['loss_xi'] = -train['currentSmoker']*np.log(train['sigmoid'])-(1-train['currentSmoker'])*np.log(1-train['sigmoid'])\n",
    "cost_j = train['loss_xi'].mean()\n",
    "cost_j"
   ]
  },
  {
   "cell_type": "code",
   "execution_count": 50,
   "id": "d24c5af3",
   "metadata": {},
   "outputs": [],
   "source": [
    "array = np.mgrid[0.05:0.15:0.01, -4:-3:0.01].reshape(2,-1).T\n",
    "df = pd.DataFrame(data = array, \n",
    "                  columns = ['w','b'])"
   ]
  },
  {
   "cell_type": "code",
   "execution_count": 51,
   "id": "593cc790",
   "metadata": {},
   "outputs": [
    {
     "data": {
      "text/html": [
       "<div>\n",
       "<style scoped>\n",
       "    .dataframe tbody tr th:only-of-type {\n",
       "        vertical-align: middle;\n",
       "    }\n",
       "\n",
       "    .dataframe tbody tr th {\n",
       "        vertical-align: top;\n",
       "    }\n",
       "\n",
       "    .dataframe thead th {\n",
       "        text-align: right;\n",
       "    }\n",
       "</style>\n",
       "<table border=\"1\" class=\"dataframe\">\n",
       "  <thead>\n",
       "    <tr style=\"text-align: right;\">\n",
       "      <th></th>\n",
       "      <th>w</th>\n",
       "      <th>b</th>\n",
       "    </tr>\n",
       "  </thead>\n",
       "  <tbody>\n",
       "    <tr>\n",
       "      <th>0</th>\n",
       "      <td>0.05</td>\n",
       "      <td>-4.00</td>\n",
       "    </tr>\n",
       "    <tr>\n",
       "      <th>1</th>\n",
       "      <td>0.05</td>\n",
       "      <td>-3.99</td>\n",
       "    </tr>\n",
       "    <tr>\n",
       "      <th>2</th>\n",
       "      <td>0.05</td>\n",
       "      <td>-3.98</td>\n",
       "    </tr>\n",
       "    <tr>\n",
       "      <th>3</th>\n",
       "      <td>0.05</td>\n",
       "      <td>-3.97</td>\n",
       "    </tr>\n",
       "    <tr>\n",
       "      <th>4</th>\n",
       "      <td>0.05</td>\n",
       "      <td>-3.96</td>\n",
       "    </tr>\n",
       "    <tr>\n",
       "      <th>...</th>\n",
       "      <td>...</td>\n",
       "      <td>...</td>\n",
       "    </tr>\n",
       "    <tr>\n",
       "      <th>995</th>\n",
       "      <td>0.14</td>\n",
       "      <td>-3.05</td>\n",
       "    </tr>\n",
       "    <tr>\n",
       "      <th>996</th>\n",
       "      <td>0.14</td>\n",
       "      <td>-3.04</td>\n",
       "    </tr>\n",
       "    <tr>\n",
       "      <th>997</th>\n",
       "      <td>0.14</td>\n",
       "      <td>-3.03</td>\n",
       "    </tr>\n",
       "    <tr>\n",
       "      <th>998</th>\n",
       "      <td>0.14</td>\n",
       "      <td>-3.02</td>\n",
       "    </tr>\n",
       "    <tr>\n",
       "      <th>999</th>\n",
       "      <td>0.14</td>\n",
       "      <td>-3.01</td>\n",
       "    </tr>\n",
       "  </tbody>\n",
       "</table>\n",
       "<p>1000 rows × 2 columns</p>\n",
       "</div>"
      ],
      "text/plain": [
       "        w     b\n",
       "0    0.05 -4.00\n",
       "1    0.05 -3.99\n",
       "2    0.05 -3.98\n",
       "3    0.05 -3.97\n",
       "4    0.05 -3.96\n",
       "..    ...   ...\n",
       "995  0.14 -3.05\n",
       "996  0.14 -3.04\n",
       "997  0.14 -3.03\n",
       "998  0.14 -3.02\n",
       "999  0.14 -3.01\n",
       "\n",
       "[1000 rows x 2 columns]"
      ]
     },
     "execution_count": 51,
     "metadata": {},
     "output_type": "execute_result"
    }
   ],
   "source": [
    "df"
   ]
  },
  {
   "cell_type": "code",
   "execution_count": 52,
   "id": "9516385b",
   "metadata": {},
   "outputs": [],
   "source": [
    "def sum_error_df(df):\n",
    "    train['sigmoid'] = 1/(1+np.exp(-(train['BMI']*df['w']+df['b'])))\n",
    "    train['loss_xi'] = -train['currentSmoker']*np.log(train['sigmoid'])-(1-train['currentSmoker'])*np.log(1-train['sigmoid'])\n",
    "    j_cost = train['loss_xi'].mean()\n",
    "    return(j_cost)"
   ]
  },
  {
   "cell_type": "code",
   "execution_count": 53,
   "id": "12d5f87d",
   "metadata": {},
   "outputs": [],
   "source": [
    "df['error'] = df.apply(sum_error_df, axis=1)"
   ]
  },
  {
   "cell_type": "code",
   "execution_count": 54,
   "id": "f8b952d1",
   "metadata": {},
   "outputs": [
    {
     "data": {
      "text/html": [
       "<div>\n",
       "<style scoped>\n",
       "    .dataframe tbody tr th:only-of-type {\n",
       "        vertical-align: middle;\n",
       "    }\n",
       "\n",
       "    .dataframe tbody tr th {\n",
       "        vertical-align: top;\n",
       "    }\n",
       "\n",
       "    .dataframe thead th {\n",
       "        text-align: right;\n",
       "    }\n",
       "</style>\n",
       "<table border=\"1\" class=\"dataframe\">\n",
       "  <thead>\n",
       "    <tr style=\"text-align: right;\">\n",
       "      <th></th>\n",
       "      <th>w</th>\n",
       "      <th>b</th>\n",
       "      <th>error</th>\n",
       "    </tr>\n",
       "  </thead>\n",
       "  <tbody>\n",
       "    <tr>\n",
       "      <th>699</th>\n",
       "      <td>0.11</td>\n",
       "      <td>-3.01</td>\n",
       "      <td>0.757788</td>\n",
       "    </tr>\n",
       "    <tr>\n",
       "      <th>698</th>\n",
       "      <td>0.11</td>\n",
       "      <td>-3.02</td>\n",
       "      <td>0.758169</td>\n",
       "    </tr>\n",
       "    <tr>\n",
       "      <th>697</th>\n",
       "      <td>0.11</td>\n",
       "      <td>-3.03</td>\n",
       "      <td>0.758575</td>\n",
       "    </tr>\n",
       "    <tr>\n",
       "      <th>696</th>\n",
       "      <td>0.11</td>\n",
       "      <td>-3.04</td>\n",
       "      <td>0.759004</td>\n",
       "    </tr>\n",
       "    <tr>\n",
       "      <th>695</th>\n",
       "      <td>0.11</td>\n",
       "      <td>-3.05</td>\n",
       "      <td>0.759456</td>\n",
       "    </tr>\n",
       "  </tbody>\n",
       "</table>\n",
       "</div>"
      ],
      "text/plain": [
       "        w     b     error\n",
       "699  0.11 -3.01  0.757788\n",
       "698  0.11 -3.02  0.758169\n",
       "697  0.11 -3.03  0.758575\n",
       "696  0.11 -3.04  0.759004\n",
       "695  0.11 -3.05  0.759456"
      ]
     },
     "execution_count": 54,
     "metadata": {},
     "output_type": "execute_result"
    }
   ],
   "source": [
    "df.sort_values(by=['error']).head()"
   ]
  },
  {
   "cell_type": "code",
   "execution_count": 55,
   "id": "1e539c88",
   "metadata": {},
   "outputs": [],
   "source": [
    "df_3d = df.pivot(index='w', columns='b', values='error')"
   ]
  },
  {
   "cell_type": "code",
   "execution_count": 56,
   "id": "cf745716",
   "metadata": {},
   "outputs": [
    {
     "data": {
      "text/html": [
       "<div>\n",
       "<style scoped>\n",
       "    .dataframe tbody tr th:only-of-type {\n",
       "        vertical-align: middle;\n",
       "    }\n",
       "\n",
       "    .dataframe tbody tr th {\n",
       "        vertical-align: top;\n",
       "    }\n",
       "\n",
       "    .dataframe thead th {\n",
       "        text-align: right;\n",
       "    }\n",
       "</style>\n",
       "<table border=\"1\" class=\"dataframe\">\n",
       "  <thead>\n",
       "    <tr style=\"text-align: right;\">\n",
       "      <th>b</th>\n",
       "      <th>-4.00</th>\n",
       "      <th>-3.99</th>\n",
       "      <th>-3.98</th>\n",
       "      <th>-3.97</th>\n",
       "      <th>-3.96</th>\n",
       "      <th>-3.95</th>\n",
       "      <th>-3.94</th>\n",
       "      <th>-3.93</th>\n",
       "      <th>-3.92</th>\n",
       "      <th>-3.91</th>\n",
       "      <th>...</th>\n",
       "      <th>-3.10</th>\n",
       "      <th>-3.09</th>\n",
       "      <th>-3.08</th>\n",
       "      <th>-3.07</th>\n",
       "      <th>-3.06</th>\n",
       "      <th>-3.05</th>\n",
       "      <th>-3.04</th>\n",
       "      <th>-3.03</th>\n",
       "      <th>-3.02</th>\n",
       "      <th>-3.01</th>\n",
       "    </tr>\n",
       "    <tr>\n",
       "      <th>w</th>\n",
       "      <th></th>\n",
       "      <th></th>\n",
       "      <th></th>\n",
       "      <th></th>\n",
       "      <th></th>\n",
       "      <th></th>\n",
       "      <th></th>\n",
       "      <th></th>\n",
       "      <th></th>\n",
       "      <th></th>\n",
       "      <th></th>\n",
       "      <th></th>\n",
       "      <th></th>\n",
       "      <th></th>\n",
       "      <th></th>\n",
       "      <th></th>\n",
       "      <th></th>\n",
       "      <th></th>\n",
       "      <th></th>\n",
       "      <th></th>\n",
       "      <th></th>\n",
       "    </tr>\n",
       "  </thead>\n",
       "  <tbody>\n",
       "    <tr>\n",
       "      <th>0.05</th>\n",
       "      <td>1.423323</td>\n",
       "      <td>1.419014</td>\n",
       "      <td>1.414712</td>\n",
       "      <td>1.410415</td>\n",
       "      <td>1.406125</td>\n",
       "      <td>1.401840</td>\n",
       "      <td>1.397562</td>\n",
       "      <td>1.393290</td>\n",
       "      <td>1.389025</td>\n",
       "      <td>1.384766</td>\n",
       "      <td>...</td>\n",
       "      <td>1.066620</td>\n",
       "      <td>1.063104</td>\n",
       "      <td>1.059601</td>\n",
       "      <td>1.056109</td>\n",
       "      <td>1.052631</td>\n",
       "      <td>1.049164</td>\n",
       "      <td>1.045710</td>\n",
       "      <td>1.042269</td>\n",
       "      <td>1.038841</td>\n",
       "      <td>1.035426</td>\n",
       "    </tr>\n",
       "    <tr>\n",
       "      <th>0.06</th>\n",
       "      <td>1.318372</td>\n",
       "      <td>1.314242</td>\n",
       "      <td>1.310118</td>\n",
       "      <td>1.306003</td>\n",
       "      <td>1.301895</td>\n",
       "      <td>1.297795</td>\n",
       "      <td>1.293702</td>\n",
       "      <td>1.289617</td>\n",
       "      <td>1.285541</td>\n",
       "      <td>1.281472</td>\n",
       "      <td>...</td>\n",
       "      <td>0.984878</td>\n",
       "      <td>0.981715</td>\n",
       "      <td>0.978566</td>\n",
       "      <td>0.975432</td>\n",
       "      <td>0.972312</td>\n",
       "      <td>0.969208</td>\n",
       "      <td>0.966118</td>\n",
       "      <td>0.963043</td>\n",
       "      <td>0.959984</td>\n",
       "      <td>0.956939</td>\n",
       "    </tr>\n",
       "    <tr>\n",
       "      <th>0.07</th>\n",
       "      <td>1.218875</td>\n",
       "      <td>1.214966</td>\n",
       "      <td>1.211067</td>\n",
       "      <td>1.207177</td>\n",
       "      <td>1.203297</td>\n",
       "      <td>1.199426</td>\n",
       "      <td>1.195565</td>\n",
       "      <td>1.191713</td>\n",
       "      <td>1.187871</td>\n",
       "      <td>1.184038</td>\n",
       "      <td>...</td>\n",
       "      <td>0.913507</td>\n",
       "      <td>0.910759</td>\n",
       "      <td>0.908027</td>\n",
       "      <td>0.905312</td>\n",
       "      <td>0.902614</td>\n",
       "      <td>0.899934</td>\n",
       "      <td>0.897270</td>\n",
       "      <td>0.894625</td>\n",
       "      <td>0.891996</td>\n",
       "      <td>0.889385</td>\n",
       "    </tr>\n",
       "    <tr>\n",
       "      <th>0.08</th>\n",
       "      <td>1.126151</td>\n",
       "      <td>1.122516</td>\n",
       "      <td>1.118892</td>\n",
       "      <td>1.115279</td>\n",
       "      <td>1.111678</td>\n",
       "      <td>1.108088</td>\n",
       "      <td>1.104510</td>\n",
       "      <td>1.100943</td>\n",
       "      <td>1.097388</td>\n",
       "      <td>1.093845</td>\n",
       "      <td>...</td>\n",
       "      <td>0.854169</td>\n",
       "      <td>0.851896</td>\n",
       "      <td>0.849642</td>\n",
       "      <td>0.847407</td>\n",
       "      <td>0.845191</td>\n",
       "      <td>0.842995</td>\n",
       "      <td>0.840819</td>\n",
       "      <td>0.838662</td>\n",
       "      <td>0.836524</td>\n",
       "      <td>0.834407</td>\n",
       "    </tr>\n",
       "    <tr>\n",
       "      <th>0.09</th>\n",
       "      <td>1.041679</td>\n",
       "      <td>1.038373</td>\n",
       "      <td>1.035081</td>\n",
       "      <td>1.031802</td>\n",
       "      <td>1.028536</td>\n",
       "      <td>1.025285</td>\n",
       "      <td>1.022047</td>\n",
       "      <td>1.018823</td>\n",
       "      <td>1.015613</td>\n",
       "      <td>1.012417</td>\n",
       "      <td>...</td>\n",
       "      <td>0.808387</td>\n",
       "      <td>0.806643</td>\n",
       "      <td>0.804921</td>\n",
       "      <td>0.803220</td>\n",
       "      <td>0.801540</td>\n",
       "      <td>0.799882</td>\n",
       "      <td>0.798244</td>\n",
       "      <td>0.796629</td>\n",
       "      <td>0.795035</td>\n",
       "      <td>0.793463</td>\n",
       "    </tr>\n",
       "  </tbody>\n",
       "</table>\n",
       "<p>5 rows × 100 columns</p>\n",
       "</div>"
      ],
      "text/plain": [
       "b        -4.00     -3.99     -3.98     -3.97     -3.96     -3.95     -3.94  \\\n",
       "w                                                                            \n",
       "0.05  1.423323  1.419014  1.414712  1.410415  1.406125  1.401840  1.397562   \n",
       "0.06  1.318372  1.314242  1.310118  1.306003  1.301895  1.297795  1.293702   \n",
       "0.07  1.218875  1.214966  1.211067  1.207177  1.203297  1.199426  1.195565   \n",
       "0.08  1.126151  1.122516  1.118892  1.115279  1.111678  1.108088  1.104510   \n",
       "0.09  1.041679  1.038373  1.035081  1.031802  1.028536  1.025285  1.022047   \n",
       "\n",
       "b        -3.93     -3.92     -3.91  ...     -3.10     -3.09     -3.08  \\\n",
       "w                                   ...                                 \n",
       "0.05  1.393290  1.389025  1.384766  ...  1.066620  1.063104  1.059601   \n",
       "0.06  1.289617  1.285541  1.281472  ...  0.984878  0.981715  0.978566   \n",
       "0.07  1.191713  1.187871  1.184038  ...  0.913507  0.910759  0.908027   \n",
       "0.08  1.100943  1.097388  1.093845  ...  0.854169  0.851896  0.849642   \n",
       "0.09  1.018823  1.015613  1.012417  ...  0.808387  0.806643  0.804921   \n",
       "\n",
       "b        -3.07     -3.06     -3.05     -3.04     -3.03     -3.02     -3.01  \n",
       "w                                                                           \n",
       "0.05  1.056109  1.052631  1.049164  1.045710  1.042269  1.038841  1.035426  \n",
       "0.06  0.975432  0.972312  0.969208  0.966118  0.963043  0.959984  0.956939  \n",
       "0.07  0.905312  0.902614  0.899934  0.897270  0.894625  0.891996  0.889385  \n",
       "0.08  0.847407  0.845191  0.842995  0.840819  0.838662  0.836524  0.834407  \n",
       "0.09  0.803220  0.801540  0.799882  0.798244  0.796629  0.795035  0.793463  \n",
       "\n",
       "[5 rows x 100 columns]"
      ]
     },
     "execution_count": 56,
     "metadata": {},
     "output_type": "execute_result"
    }
   ],
   "source": [
    "df_3d.head()"
   ]
  },
  {
   "cell_type": "code",
   "execution_count": 57,
   "id": "d703a07d",
   "metadata": {},
   "outputs": [],
   "source": [
    "import matplotlib as mpl\n",
    "import matplotlib.pyplot as plt\n",
    "from mpl_toolkits.mplot3d import Axes3D"
   ]
  },
  {
   "cell_type": "code",
   "execution_count": 58,
   "id": "1a324f42",
   "metadata": {},
   "outputs": [
    {
     "data": {
      "text/plain": [
       "<mpl_toolkits.mplot3d.art3d.Poly3DCollection at 0x19a3274ca90>"
      ]
     },
     "execution_count": 58,
     "metadata": {},
     "output_type": "execute_result"
    },
    {
     "data": {
      "image/png": "[encoded data removed]",
      "text/plain": [
       "<Figure size 640x480 with 1 Axes>"
      ]
     },
     "metadata": {},
     "output_type": "display_data"
    }
   ],
   "source": [
    "x = df_3d.columns\n",
    "y = df_3d.index\n",
    "X,Y = np.meshgrid(x,y)\n",
    "Z = df_3d\n",
    "\n",
    "fig = plt.figure()\n",
    "ax = fig.add_subplot(111, projection='3d')\n",
    "ax.plot_surface(X, Y, Z)"
   ]
  },
  {
   "cell_type": "code",
   "execution_count": 59,
   "id": "2bfebfd6",
   "metadata": {},
   "outputs": [
    {
     "data": {
      "text/plain": [
       "<matplotlib.contour.QuadContourSet at 0x19a326ef650>"
      ]
     },
     "execution_count": 59,
     "metadata": {},
     "output_type": "execute_result"
    },
    {
     "data": {
      "image/png": "[encoded data removed]",
      "text/plain": [
       "<Figure size 640x480 with 1 Axes>"
      ]
     },
     "metadata": {},
     "output_type": "display_data"
    }
   ],
   "source": [
    "x = df_3d.columns\n",
    "y = df_3d.index\n",
    "X,Y = np.meshgrid(x,y)\n",
    "Z = df_3d\n",
    "plt.contourf(Y, X, Z, alpha=0.7, cmap=plt.cm.jet)"
   ]
  },
  {
   "cell_type": "code",
   "execution_count": 60,
   "id": "bf37a436",
   "metadata": {},
   "outputs": [],
   "source": [
    "def delta_j_w(w, b):\n",
    "    train['currentSmoker'] = 1/(1+np.exp(-(train['BMI']*w+b)))\n",
    "    train['partial_loss'] = (train['sigmoid']-train['currentSmoker'])*train['BMI']\n",
    "    derivative = train['partial_loss'].mean()\n",
    "    return(derivative) \n",
    "\n",
    "def delta_j_b(w, b):\n",
    "    train['sigmoid'] = 1/(1+np.exp(-(train['BMI']*w+b)))\n",
    "    train['partial_loss'] = (train['sigmoid']-train['currentSmoker'])\n",
    "    derivative = train['partial_loss'].mean()\n",
    "    return(derivative) "
   ]
  },
  {
   "cell_type": "code",
   "execution_count": 61,
   "id": "833a7aea",
   "metadata": {},
   "outputs": [],
   "source": [
    "w_0 = 0.09\n",
    "b_0 = -3.57"
   ]
  },
  {
   "cell_type": "code",
   "execution_count": 66,
   "id": "b9cc3fad",
   "metadata": {},
   "outputs": [
    {
     "name": "stdout",
     "output_type": "stream",
     "text": [
      "0.07810077536372396 -3.57\n"
     ]
    }
   ],
   "source": [
    "alpha_w = 0.001\n",
    "alpha_b = 0.1\n",
    "\n",
    "w_new = w_0 - alpha_w * delta_j_w(w_0, b_0)\n",
    "b_new = b_0 - alpha_b * delta_j_b(w_0, b_0)\n",
    "\n",
    "w_0 = w_new\n",
    "b_0 = b_new\n",
    "\n",
    "print(w_0, b_0)"
   ]
  }
 ],
 "metadata": {
  "kernelspec": {
   "display_name": "Python 3 (ipykernel)",
   "language": "python",
   "name": "python3"
  },
  "language_info": {
   "codemirror_mode": {
    "name": "ipython",
    "version": 3
   },
   "file_extension": ".py",
   "mimetype": "text/x-python",
   "name": "python",
   "nbconvert_exporter": "python",
   "pygments_lexer": "ipython3",
   "version": "3.11.5"
  }
 },
 "nbformat": 4,
 "nbformat_minor": 5
}
